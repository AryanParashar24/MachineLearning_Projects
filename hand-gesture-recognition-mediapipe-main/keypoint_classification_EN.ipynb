{
 "cells": [
  {
   "cell_type": "code",
   "execution_count": 25,
   "metadata": {
    "id": "igMyGnjE9hEp"
   },
   "outputs": [],
   "source": [
    "import csv\n",
    "\n",
    "import numpy as np\n",
    "import tensorflow as tf\n",
    "from sklearn.model_selection import train_test_split\n",
    "\n",
    "RANDOM_SEED = 42"
   ]
  },
  {
   "cell_type": "markdown",
   "metadata": {
    "id": "t2HDvhIu9hEr"
   },
   "source": [
    "# Specify each path"
   ]
  },
  {
   "cell_type": "code",
   "execution_count": 26,
   "metadata": {
    "id": "9NvZP2Zn9hEy"
   },
   "outputs": [],
   "source": [
    "dataset = 'model/keypoint_classifier/keypoint.csv'\n",
    "model_save_path = 'model/keypoint_classifier/keypoint_classifier.hdf5'\n",
    "tflite_save_path = 'model/keypoint_classifier/keypoint_classifier.tflite'"
   ]
  },
  {
   "cell_type": "markdown",
   "metadata": {
    "id": "s5oMH7x19hEz"
   },
   "source": [
    "# Set number of classes"
   ]
  },
  {
   "cell_type": "code",
   "execution_count": 27,
   "metadata": {
    "id": "du4kodXL9hEz"
   },
   "outputs": [],
   "source": [
    "NUM_CLASSES = 6"
   ]
  },
  {
   "cell_type": "markdown",
   "metadata": {
    "id": "XjnL0uso9hEz"
   },
   "source": [
    "# Dataset reading"
   ]
  },
  {
   "cell_type": "code",
   "execution_count": 28,
   "metadata": {
    "id": "QT5ZqtEz9hE0"
   },
   "outputs": [],
   "source": [
    "X_dataset = np.loadtxt(dataset, delimiter=',', dtype='float32', usecols=list(range(1, (21 * 2) + 1)))"
   ]
  },
  {
   "cell_type": "code",
   "execution_count": 29,
   "metadata": {
    "id": "QmoKFsp49hE0"
   },
   "outputs": [],
   "source": [
    "y_dataset = np.loadtxt(dataset, delimiter=',', dtype='int32', usecols=(0))"
   ]
  },
  {
   "cell_type": "code",
   "execution_count": 30,
   "metadata": {
    "id": "xQU7JTZ_9hE0"
   },
   "outputs": [],
   "source": [
    "X_train, X_test, y_train, y_test = train_test_split(X_dataset, y_dataset, train_size=0.75, random_state=RANDOM_SEED)"
   ]
  },
  {
   "cell_type": "markdown",
   "metadata": {
    "id": "mxK_lETT9hE0"
   },
   "source": [
    "# Model building"
   ]
  },
  {
   "cell_type": "code",
   "execution_count": 31,
   "metadata": {
    "id": "vHBmUf1t9hE1"
   },
   "outputs": [],
   "source": [
    "model = tf.keras.models.Sequential([\n",
    "    tf.keras.layers.Input((21 * 2, )),\n",
    "    tf.keras.layers.Dropout(0.2),\n",
    "    tf.keras.layers.Dense(20, activation='relu'),\n",
    "    tf.keras.layers.Dropout(0.4),\n",
    "    tf.keras.layers.Dense(10, activation='relu'),\n",
    "    tf.keras.layers.Dense(NUM_CLASSES, activation='softmax')\n",
    "])"
   ]
  },
  {
   "cell_type": "code",
   "execution_count": 32,
   "metadata": {
    "colab": {
     "base_uri": "https://localhost:8080/"
    },
    "id": "ypqky9tc9hE1",
    "outputId": "5db082bb-30e3-4110-bf63-a1ee777ecd46"
   },
   "outputs": [
    {
     "name": "stdout",
     "output_type": "stream",
     "text": [
      "Model: \"sequential_1\"\n",
      "_________________________________________________________________\n",
      " Layer (type)                Output Shape              Param #   \n",
      "=================================================================\n",
      " dropout_2 (Dropout)         (None, 42)                0         \n",
      "                                                                 \n",
      " dense_3 (Dense)             (None, 20)                860       \n",
      "                                                                 \n",
      " dropout_3 (Dropout)         (None, 20)                0         \n",
      "                                                                 \n",
      " dense_4 (Dense)             (None, 10)                210       \n",
      "                                                                 \n",
      " dense_5 (Dense)             (None, 6)                 66        \n",
      "                                                                 \n",
      "=================================================================\n",
      "Total params: 1136 (4.44 KB)\n",
      "Trainable params: 1136 (4.44 KB)\n",
      "Non-trainable params: 0 (0.00 Byte)\n",
      "_________________________________________________________________\n"
     ]
    }
   ],
   "source": [
    "model.summary()  # tf.keras.utils.plot_model(model, show_shapes=True)"
   ]
  },
  {
   "cell_type": "code",
   "execution_count": 33,
   "metadata": {
    "id": "MbMjOflQ9hE1"
   },
   "outputs": [],
   "source": [
    "# Model checkpoint callback\n",
    "cp_callback = tf.keras.callbacks.ModelCheckpoint(\n",
    "    model_save_path, verbose=1, save_weights_only=False)\n",
    "# Callback for early stopping\n",
    "es_callback = tf.keras.callbacks.EarlyStopping(patience=20, verbose=1)"
   ]
  },
  {
   "cell_type": "code",
   "execution_count": 34,
   "metadata": {
    "id": "c3Dac0M_9hE2"
   },
   "outputs": [],
   "source": [
    "# Model compilation\n",
    "model.compile(\n",
    "    optimizer='adam',\n",
    "    loss='sparse_categorical_crossentropy',\n",
    "    metrics=['accuracy']\n",
    ")"
   ]
  },
  {
   "cell_type": "markdown",
   "metadata": {
    "id": "7XI0j1Iu9hE2"
   },
   "source": [
    "# Model training"
   ]
  },
  {
   "cell_type": "code",
   "execution_count": 35,
   "metadata": {
    "colab": {
     "base_uri": "https://localhost:8080/"
    },
    "id": "WirBl-JE9hE3",
    "outputId": "71b30ca2-8294-4d9d-8aa2-800d90d399de",
    "scrolled": true
   },
   "outputs": [
    {
     "name": "stdout",
     "output_type": "stream",
     "text": [
      "Epoch 1/1000\n",
      " 1/31 [..............................] - ETA: 15s - loss: 1.8363 - accuracy: 0.2578\n",
      "Epoch 1: saving model to model/keypoint_classifier\\keypoint_classifier.hdf5\n",
      "31/31 [==============================] - 1s 11ms/step - loss: 1.7199 - accuracy: 0.2754 - val_loss: 1.6112 - val_accuracy: 0.2866\n",
      "Epoch 2/1000\n",
      "28/31 [==========================>...] - ETA: 0s - loss: 1.5759 - accuracy: 0.3161\n",
      "Epoch 2: saving model to model/keypoint_classifier\\keypoint_classifier.hdf5\n",
      "31/31 [==============================] - 0s 4ms/step - loss: 1.5730 - accuracy: 0.3201 - val_loss: 1.4770 - val_accuracy: 0.4061\n",
      "Epoch 3/1000\n",
      " 1/31 [..............................] - ETA: 0s - loss: 1.5226 - accuracy: 0.3672"
     ]
    },
    {
     "name": "stderr",
     "output_type": "stream",
     "text": [
      "C:\\Users\\Lenovo\\anaconda3\\lib\\site-packages\\keras\\src\\engine\\training.py:3000: UserWarning: You are saving your model as an HDF5 file via `model.save()`. This file format is considered legacy. We recommend using instead the native Keras format, e.g. `model.save('my_model.keras')`.\n",
      "  saving_api.save_model(\n"
     ]
    },
    {
     "name": "stdout",
     "output_type": "stream",
     "text": [
      "\n",
      "Epoch 3: saving model to model/keypoint_classifier\\keypoint_classifier.hdf5\n",
      "31/31 [==============================] - 0s 3ms/step - loss: 1.4881 - accuracy: 0.3686 - val_loss: 1.3802 - val_accuracy: 0.4904\n",
      "Epoch 4/1000\n",
      " 1/31 [..............................] - ETA: 0s - loss: 1.5168 - accuracy: 0.3438\n",
      "Epoch 4: saving model to model/keypoint_classifier\\keypoint_classifier.hdf5\n",
      "31/31 [==============================] - 0s 3ms/step - loss: 1.4239 - accuracy: 0.4038 - val_loss: 1.2970 - val_accuracy: 0.5326\n",
      "Epoch 5/1000\n",
      " 1/31 [..............................] - ETA: 0s - loss: 1.4489 - accuracy: 0.3750\n",
      "Epoch 5: saving model to model/keypoint_classifier\\keypoint_classifier.hdf5\n",
      "31/31 [==============================] - 0s 3ms/step - loss: 1.3684 - accuracy: 0.4301 - val_loss: 1.2293 - val_accuracy: 0.5801\n",
      "Epoch 6/1000\n",
      " 1/31 [..............................] - ETA: 0s - loss: 1.2765 - accuracy: 0.4766\n",
      "Epoch 6: saving model to model/keypoint_classifier\\keypoint_classifier.hdf5\n",
      "31/31 [==============================] - 0s 3ms/step - loss: 1.3146 - accuracy: 0.4662 - val_loss: 1.1698 - val_accuracy: 0.6245\n",
      "Epoch 7/1000\n",
      " 1/31 [..............................] - ETA: 0s - loss: 1.3193 - accuracy: 0.4453\n",
      "Epoch 7: saving model to model/keypoint_classifier\\keypoint_classifier.hdf5\n",
      "31/31 [==============================] - 0s 3ms/step - loss: 1.2689 - accuracy: 0.4935 - val_loss: 1.1154 - val_accuracy: 0.6536\n",
      "Epoch 8/1000\n",
      " 1/31 [..............................] - ETA: 0s - loss: 1.2812 - accuracy: 0.4375\n",
      "Epoch 8: saving model to model/keypoint_classifier\\keypoint_classifier.hdf5\n",
      "31/31 [==============================] - 0s 3ms/step - loss: 1.2477 - accuracy: 0.4914 - val_loss: 1.0728 - val_accuracy: 0.6682\n",
      "Epoch 9/1000\n",
      " 1/31 [..............................] - ETA: 0s - loss: 1.2527 - accuracy: 0.5156\n",
      "Epoch 9: saving model to model/keypoint_classifier\\keypoint_classifier.hdf5\n",
      "31/31 [==============================] - 0s 3ms/step - loss: 1.2065 - accuracy: 0.5183 - val_loss: 1.0288 - val_accuracy: 0.6820\n",
      "Epoch 10/1000\n",
      " 1/31 [..............................] - ETA: 0s - loss: 1.2519 - accuracy: 0.5234\n",
      "Epoch 10: saving model to model/keypoint_classifier\\keypoint_classifier.hdf5\n",
      "31/31 [==============================] - 0s 3ms/step - loss: 1.1788 - accuracy: 0.5303 - val_loss: 0.9797 - val_accuracy: 0.6935\n",
      "Epoch 11/1000\n",
      " 1/31 [..............................] - ETA: 0s - loss: 1.0527 - accuracy: 0.5781\n",
      "Epoch 11: saving model to model/keypoint_classifier\\keypoint_classifier.hdf5\n",
      "31/31 [==============================] - 0s 3ms/step - loss: 1.1476 - accuracy: 0.5369 - val_loss: 0.9499 - val_accuracy: 0.7042\n",
      "Epoch 12/1000\n",
      " 1/31 [..............................] - ETA: 0s - loss: 1.0907 - accuracy: 0.5703\n",
      "Epoch 12: saving model to model/keypoint_classifier\\keypoint_classifier.hdf5\n",
      "31/31 [==============================] - 0s 3ms/step - loss: 1.1283 - accuracy: 0.5499 - val_loss: 0.9164 - val_accuracy: 0.7172\n",
      "Epoch 13/1000\n",
      " 1/31 [..............................] - ETA: 0s - loss: 1.1537 - accuracy: 0.5234\n",
      "Epoch 13: saving model to model/keypoint_classifier\\keypoint_classifier.hdf5\n",
      "31/31 [==============================] - 0s 3ms/step - loss: 1.1077 - accuracy: 0.5648 - val_loss: 0.8855 - val_accuracy: 0.7387\n",
      "Epoch 14/1000\n",
      " 1/31 [..............................] - ETA: 0s - loss: 1.1307 - accuracy: 0.6094\n",
      "Epoch 14: saving model to model/keypoint_classifier\\keypoint_classifier.hdf5\n",
      "31/31 [==============================] - 0s 3ms/step - loss: 1.0851 - accuracy: 0.5716 - val_loss: 0.8540 - val_accuracy: 0.7456\n",
      "Epoch 15/1000\n",
      " 1/31 [..............................] - ETA: 0s - loss: 1.0898 - accuracy: 0.5781\n",
      "Epoch 15: saving model to model/keypoint_classifier\\keypoint_classifier.hdf5\n",
      "31/31 [==============================] - 0s 3ms/step - loss: 1.0651 - accuracy: 0.5867 - val_loss: 0.8305 - val_accuracy: 0.7556\n",
      "Epoch 16/1000\n",
      " 1/31 [..............................] - ETA: 0s - loss: 1.1752 - accuracy: 0.5234\n",
      "Epoch 16: saving model to model/keypoint_classifier\\keypoint_classifier.hdf5\n",
      "31/31 [==============================] - 0s 3ms/step - loss: 1.0471 - accuracy: 0.5829 - val_loss: 0.8032 - val_accuracy: 0.7648\n",
      "Epoch 17/1000\n",
      " 1/31 [..............................] - ETA: 0s - loss: 1.0208 - accuracy: 0.6172\n",
      "Epoch 17: saving model to model/keypoint_classifier\\keypoint_classifier.hdf5\n",
      "31/31 [==============================] - 0s 3ms/step - loss: 1.0176 - accuracy: 0.6028 - val_loss: 0.7742 - val_accuracy: 0.7701\n",
      "Epoch 18/1000\n",
      " 1/31 [..............................] - ETA: 0s - loss: 0.9844 - accuracy: 0.6094\n",
      "Epoch 18: saving model to model/keypoint_classifier\\keypoint_classifier.hdf5\n",
      "31/31 [==============================] - 0s 3ms/step - loss: 1.0102 - accuracy: 0.6095 - val_loss: 0.7545 - val_accuracy: 0.7793\n",
      "Epoch 19/1000\n",
      " 1/31 [..............................] - ETA: 0s - loss: 1.1089 - accuracy: 0.4531\n",
      "Epoch 19: saving model to model/keypoint_classifier\\keypoint_classifier.hdf5\n",
      "31/31 [==============================] - 0s 3ms/step - loss: 0.9931 - accuracy: 0.6148 - val_loss: 0.7288 - val_accuracy: 0.7885\n",
      "Epoch 20/1000\n",
      " 1/31 [..............................] - ETA: 0s - loss: 0.9563 - accuracy: 0.5938\n",
      "Epoch 20: saving model to model/keypoint_classifier\\keypoint_classifier.hdf5\n",
      "31/31 [==============================] - 0s 3ms/step - loss: 0.9562 - accuracy: 0.6199 - val_loss: 0.6975 - val_accuracy: 0.8015\n",
      "Epoch 21/1000\n",
      " 1/31 [..............................] - ETA: 0s - loss: 0.9341 - accuracy: 0.6250\n",
      "Epoch 21: saving model to model/keypoint_classifier\\keypoint_classifier.hdf5\n",
      "31/31 [==============================] - 0s 3ms/step - loss: 0.9538 - accuracy: 0.6240 - val_loss: 0.6847 - val_accuracy: 0.8192\n",
      "Epoch 22/1000\n",
      " 1/31 [..............................] - ETA: 0s - loss: 0.8516 - accuracy: 0.6719\n",
      "Epoch 22: saving model to model/keypoint_classifier\\keypoint_classifier.hdf5\n",
      "31/31 [==============================] - 0s 3ms/step - loss: 0.9288 - accuracy: 0.6460 - val_loss: 0.6659 - val_accuracy: 0.8421\n",
      "Epoch 23/1000\n",
      " 1/31 [..............................] - ETA: 0s - loss: 0.9433 - accuracy: 0.6328\n",
      "Epoch 23: saving model to model/keypoint_classifier\\keypoint_classifier.hdf5\n",
      "31/31 [==============================] - 0s 3ms/step - loss: 0.9096 - accuracy: 0.6485 - val_loss: 0.6385 - val_accuracy: 0.8391\n",
      "Epoch 24/1000\n",
      " 1/31 [..............................] - ETA: 0s - loss: 0.8291 - accuracy: 0.6484\n",
      "Epoch 24: saving model to model/keypoint_classifier\\keypoint_classifier.hdf5\n",
      "31/31 [==============================] - 0s 3ms/step - loss: 0.9136 - accuracy: 0.6386 - val_loss: 0.6280 - val_accuracy: 0.8391\n",
      "Epoch 25/1000\n",
      " 1/31 [..............................] - ETA: 0s - loss: 1.0106 - accuracy: 0.6328\n",
      "Epoch 25: saving model to model/keypoint_classifier\\keypoint_classifier.hdf5\n",
      "31/31 [==============================] - 0s 3ms/step - loss: 0.8985 - accuracy: 0.6511 - val_loss: 0.6083 - val_accuracy: 0.8460\n",
      "Epoch 26/1000\n",
      " 1/31 [..............................] - ETA: 0s - loss: 0.9198 - accuracy: 0.6484\n",
      "Epoch 26: saving model to model/keypoint_classifier\\keypoint_classifier.hdf5\n",
      "31/31 [==============================] - 0s 3ms/step - loss: 0.8746 - accuracy: 0.6702 - val_loss: 0.5963 - val_accuracy: 0.8498\n",
      "Epoch 27/1000\n",
      " 1/31 [..............................] - ETA: 0s - loss: 0.9460 - accuracy: 0.6484\n",
      "Epoch 27: saving model to model/keypoint_classifier\\keypoint_classifier.hdf5\n",
      "31/31 [==============================] - 0s 3ms/step - loss: 0.8674 - accuracy: 0.6646 - val_loss: 0.5720 - val_accuracy: 0.8567\n",
      "Epoch 28/1000\n",
      " 1/31 [..............................] - ETA: 0s - loss: 0.8128 - accuracy: 0.6719\n",
      "Epoch 28: saving model to model/keypoint_classifier\\keypoint_classifier.hdf5\n",
      "31/31 [==============================] - 0s 3ms/step - loss: 0.8615 - accuracy: 0.6690 - val_loss: 0.5580 - val_accuracy: 0.8628\n",
      "Epoch 29/1000\n",
      " 1/31 [..............................] - ETA: 0s - loss: 0.8737 - accuracy: 0.6797\n",
      "Epoch 29: saving model to model/keypoint_classifier\\keypoint_classifier.hdf5\n",
      "31/31 [==============================] - 0s 3ms/step - loss: 0.8428 - accuracy: 0.6766 - val_loss: 0.5506 - val_accuracy: 0.8659\n",
      "Epoch 30/1000\n",
      " 1/31 [..............................] - ETA: 0s - loss: 0.8275 - accuracy: 0.6953\n",
      "Epoch 30: saving model to model/keypoint_classifier\\keypoint_classifier.hdf5\n",
      "31/31 [==============================] - 0s 3ms/step - loss: 0.8316 - accuracy: 0.6820 - val_loss: 0.5374 - val_accuracy: 0.8720\n",
      "Epoch 31/1000\n",
      "29/31 [===========================>..] - ETA: 0s - loss: 0.8210 - accuracy: 0.6934\n",
      "Epoch 31: saving model to model/keypoint_classifier\\keypoint_classifier.hdf5\n",
      "31/31 [==============================] - 0s 4ms/step - loss: 0.8236 - accuracy: 0.6920 - val_loss: 0.5200 - val_accuracy: 0.8713\n",
      "Epoch 32/1000\n",
      " 1/31 [..............................] - ETA: 0s - loss: 0.8197 - accuracy: 0.7031\n",
      "Epoch 32: saving model to model/keypoint_classifier\\keypoint_classifier.hdf5\n",
      "31/31 [==============================] - 0s 3ms/step - loss: 0.8344 - accuracy: 0.6868 - val_loss: 0.5178 - val_accuracy: 0.8636\n",
      "Epoch 33/1000\n",
      " 1/31 [..............................] - ETA: 0s - loss: 0.8417 - accuracy: 0.6641\n",
      "Epoch 33: saving model to model/keypoint_classifier\\keypoint_classifier.hdf5\n",
      "31/31 [==============================] - 0s 3ms/step - loss: 0.8202 - accuracy: 0.6833 - val_loss: 0.5037 - val_accuracy: 0.8843\n",
      "Epoch 34/1000\n",
      " 1/31 [..............................] - ETA: 0s - loss: 0.8120 - accuracy: 0.7266\n",
      "Epoch 34: saving model to model/keypoint_classifier\\keypoint_classifier.hdf5\n",
      "31/31 [==============================] - 0s 3ms/step - loss: 0.8139 - accuracy: 0.6960 - val_loss: 0.4881 - val_accuracy: 0.9004\n",
      "Epoch 35/1000\n",
      " 1/31 [..............................] - ETA: 0s - loss: 0.9786 - accuracy: 0.6172\n",
      "Epoch 35: saving model to model/keypoint_classifier\\keypoint_classifier.hdf5\n",
      "31/31 [==============================] - 0s 3ms/step - loss: 0.7989 - accuracy: 0.6994 - val_loss: 0.4795 - val_accuracy: 0.8989\n",
      "Epoch 36/1000\n",
      " 1/31 [..............................] - ETA: 0s - loss: 0.8239 - accuracy: 0.6562\n",
      "Epoch 36: saving model to model/keypoint_classifier\\keypoint_classifier.hdf5\n",
      "31/31 [==============================] - 0s 4ms/step - loss: 0.8055 - accuracy: 0.6958 - val_loss: 0.4683 - val_accuracy: 0.9011\n",
      "Epoch 37/1000\n",
      " 1/31 [..............................] - ETA: 0s - loss: 0.7053 - accuracy: 0.7656\n",
      "Epoch 37: saving model to model/keypoint_classifier\\keypoint_classifier.hdf5\n",
      "31/31 [==============================] - 0s 4ms/step - loss: 0.7891 - accuracy: 0.7101 - val_loss: 0.4685 - val_accuracy: 0.8973\n",
      "Epoch 38/1000\n",
      " 1/31 [..............................] - ETA: 0s - loss: 0.7604 - accuracy: 0.7344\n",
      "Epoch 38: saving model to model/keypoint_classifier\\keypoint_classifier.hdf5\n",
      "31/31 [==============================] - 0s 4ms/step - loss: 0.7751 - accuracy: 0.7178 - val_loss: 0.4481 - val_accuracy: 0.9065\n",
      "Epoch 39/1000\n",
      " 1/31 [..............................] - ETA: 0s - loss: 0.7284 - accuracy: 0.7344\n",
      "Epoch 39: saving model to model/keypoint_classifier\\keypoint_classifier.hdf5\n",
      "31/31 [==============================] - 0s 4ms/step - loss: 0.7774 - accuracy: 0.7093 - val_loss: 0.4439 - val_accuracy: 0.9027\n",
      "Epoch 40/1000\n",
      " 1/31 [..............................] - ETA: 0s - loss: 0.6920 - accuracy: 0.7656\n",
      "Epoch 40: saving model to model/keypoint_classifier\\keypoint_classifier.hdf5\n",
      "31/31 [==============================] - 0s 3ms/step - loss: 0.7635 - accuracy: 0.7198 - val_loss: 0.4336 - val_accuracy: 0.9027\n",
      "Epoch 41/1000\n",
      " 1/31 [..............................] - ETA: 0s - loss: 0.7873 - accuracy: 0.6797\n",
      "Epoch 41: saving model to model/keypoint_classifier\\keypoint_classifier.hdf5\n",
      "31/31 [==============================] - 0s 4ms/step - loss: 0.7652 - accuracy: 0.7103 - val_loss: 0.4241 - val_accuracy: 0.9088\n",
      "Epoch 42/1000\n",
      "21/31 [===================>..........] - ETA: 0s - loss: 0.7388 - accuracy: 0.7366\n",
      "Epoch 42: saving model to model/keypoint_classifier\\keypoint_classifier.hdf5\n",
      "31/31 [==============================] - 0s 4ms/step - loss: 0.7469 - accuracy: 0.7305 - val_loss: 0.4217 - val_accuracy: 0.9042\n",
      "Epoch 43/1000\n",
      " 1/31 [..............................] - ETA: 0s - loss: 0.9079 - accuracy: 0.7344\n",
      "Epoch 43: saving model to model/keypoint_classifier\\keypoint_classifier.hdf5\n",
      "31/31 [==============================] - 0s 3ms/step - loss: 0.7488 - accuracy: 0.7211 - val_loss: 0.4061 - val_accuracy: 0.9073\n",
      "Epoch 44/1000\n",
      " 1/31 [..............................] - ETA: 0s - loss: 0.8951 - accuracy: 0.6953\n",
      "Epoch 44: saving model to model/keypoint_classifier\\keypoint_classifier.hdf5\n",
      "31/31 [==============================] - 0s 4ms/step - loss: 0.7440 - accuracy: 0.7264 - val_loss: 0.4045 - val_accuracy: 0.9050\n",
      "Epoch 45/1000\n",
      " 1/31 [..............................] - ETA: 0s - loss: 0.6360 - accuracy: 0.7188\n",
      "Epoch 45: saving model to model/keypoint_classifier\\keypoint_classifier.hdf5\n",
      "31/31 [==============================] - 0s 3ms/step - loss: 0.7329 - accuracy: 0.7290 - val_loss: 0.3942 - val_accuracy: 0.9111\n",
      "Epoch 46/1000\n",
      " 1/31 [..............................] - ETA: 0s - loss: 0.7232 - accuracy: 0.7344\n",
      "Epoch 46: saving model to model/keypoint_classifier\\keypoint_classifier.hdf5\n",
      "31/31 [==============================] - 0s 3ms/step - loss: 0.7601 - accuracy: 0.7195 - val_loss: 0.3937 - val_accuracy: 0.9096\n",
      "Epoch 47/1000\n",
      " 1/31 [..............................] - ETA: 0s - loss: 0.8084 - accuracy: 0.6641\n",
      "Epoch 47: saving model to model/keypoint_classifier\\keypoint_classifier.hdf5\n",
      "31/31 [==============================] - 0s 3ms/step - loss: 0.7324 - accuracy: 0.7308 - val_loss: 0.3876 - val_accuracy: 0.9080\n",
      "Epoch 48/1000\n",
      " 1/31 [..............................] - ETA: 0s - loss: 0.7124 - accuracy: 0.7344\n",
      "Epoch 48: saving model to model/keypoint_classifier\\keypoint_classifier.hdf5\n",
      "31/31 [==============================] - 0s 4ms/step - loss: 0.7424 - accuracy: 0.7326 - val_loss: 0.3775 - val_accuracy: 0.9134\n",
      "Epoch 49/1000\n",
      " 1/31 [..............................] - ETA: 0s - loss: 0.7443 - accuracy: 0.7109\n",
      "Epoch 49: saving model to model/keypoint_classifier\\keypoint_classifier.hdf5\n",
      "31/31 [==============================] - 0s 3ms/step - loss: 0.7218 - accuracy: 0.7321 - val_loss: 0.3733 - val_accuracy: 0.9142\n",
      "Epoch 50/1000\n",
      "28/31 [==========================>...] - ETA: 0s - loss: 0.7323 - accuracy: 0.7305\n",
      "Epoch 50: saving model to model/keypoint_classifier\\keypoint_classifier.hdf5\n",
      "31/31 [==============================] - 0s 4ms/step - loss: 0.7332 - accuracy: 0.7323 - val_loss: 0.3678 - val_accuracy: 0.9157\n",
      "Epoch 51/1000\n",
      "25/31 [=======================>......] - ETA: 0s - loss: 0.7252 - accuracy: 0.7297\n",
      "Epoch 51: saving model to model/keypoint_classifier\\keypoint_classifier.hdf5\n",
      "31/31 [==============================] - 0s 4ms/step - loss: 0.7239 - accuracy: 0.7300 - val_loss: 0.3676 - val_accuracy: 0.9234\n",
      "Epoch 52/1000\n",
      " 1/31 [..............................] - ETA: 0s - loss: 0.6877 - accuracy: 0.7344\n",
      "Epoch 52: saving model to model/keypoint_classifier\\keypoint_classifier.hdf5\n",
      "31/31 [==============================] - 0s 3ms/step - loss: 0.7216 - accuracy: 0.7405 - val_loss: 0.3599 - val_accuracy: 0.9241\n",
      "Epoch 53/1000\n",
      "31/31 [==============================] - ETA: 0s - loss: 0.7135 - accuracy: 0.7413\n",
      "Epoch 53: saving model to model/keypoint_classifier\\keypoint_classifier.hdf5\n",
      "31/31 [==============================] - 0s 4ms/step - loss: 0.7135 - accuracy: 0.7413 - val_loss: 0.3583 - val_accuracy: 0.9203\n",
      "Epoch 54/1000\n",
      " 1/31 [..............................] - ETA: 0s - loss: 0.7157 - accuracy: 0.7188\n",
      "Epoch 54: saving model to model/keypoint_classifier\\keypoint_classifier.hdf5\n",
      "31/31 [==============================] - 0s 3ms/step - loss: 0.7126 - accuracy: 0.7453 - val_loss: 0.3541 - val_accuracy: 0.9249\n",
      "Epoch 55/1000\n",
      "30/31 [============================>.] - ETA: 0s - loss: 0.7004 - accuracy: 0.7401\n",
      "Epoch 55: saving model to model/keypoint_classifier\\keypoint_classifier.hdf5\n",
      "31/31 [==============================] - 0s 4ms/step - loss: 0.6998 - accuracy: 0.7410 - val_loss: 0.3458 - val_accuracy: 0.9249\n",
      "Epoch 56/1000\n",
      "31/31 [==============================] - ETA: 0s - loss: 0.7220 - accuracy: 0.7425\n",
      "Epoch 56: saving model to model/keypoint_classifier\\keypoint_classifier.hdf5\n",
      "31/31 [==============================] - 0s 4ms/step - loss: 0.7220 - accuracy: 0.7425 - val_loss: 0.3460 - val_accuracy: 0.9264\n",
      "Epoch 57/1000\n",
      " 1/31 [..............................] - ETA: 0s - loss: 0.7037 - accuracy: 0.7266\n",
      "Epoch 57: saving model to model/keypoint_classifier\\keypoint_classifier.hdf5\n",
      "31/31 [==============================] - 0s 3ms/step - loss: 0.7036 - accuracy: 0.7397 - val_loss: 0.3340 - val_accuracy: 0.9272\n",
      "Epoch 58/1000\n",
      " 1/31 [..............................] - ETA: 0s - loss: 0.8567 - accuracy: 0.7188\n",
      "Epoch 58: saving model to model/keypoint_classifier\\keypoint_classifier.hdf5\n",
      "31/31 [==============================] - 0s 3ms/step - loss: 0.7216 - accuracy: 0.7285 - val_loss: 0.3419 - val_accuracy: 0.9226\n",
      "Epoch 59/1000\n",
      "26/31 [========================>.....] - ETA: 0s - loss: 0.6693 - accuracy: 0.7575\n",
      "Epoch 59: saving model to model/keypoint_classifier\\keypoint_classifier.hdf5\n",
      "31/31 [==============================] - 0s 4ms/step - loss: 0.6678 - accuracy: 0.7584 - val_loss: 0.3362 - val_accuracy: 0.9318\n",
      "Epoch 60/1000\n",
      "25/31 [=======================>......] - ETA: 0s - loss: 0.6954 - accuracy: 0.7453\n",
      "Epoch 60: saving model to model/keypoint_classifier\\keypoint_classifier.hdf5\n",
      "31/31 [==============================] - 0s 4ms/step - loss: 0.6926 - accuracy: 0.7446 - val_loss: 0.3326 - val_accuracy: 0.9287\n",
      "Epoch 61/1000\n",
      "26/31 [========================>.....] - ETA: 0s - loss: 0.6749 - accuracy: 0.7614\n",
      "Epoch 61: saving model to model/keypoint_classifier\\keypoint_classifier.hdf5\n",
      "31/31 [==============================] - 0s 4ms/step - loss: 0.6705 - accuracy: 0.7635 - val_loss: 0.3340 - val_accuracy: 0.9341\n",
      "Epoch 62/1000\n",
      "25/31 [=======================>......] - ETA: 0s - loss: 0.6924 - accuracy: 0.7513\n",
      "Epoch 62: saving model to model/keypoint_classifier\\keypoint_classifier.hdf5\n",
      "31/31 [==============================] - 0s 5ms/step - loss: 0.6950 - accuracy: 0.7469 - val_loss: 0.3228 - val_accuracy: 0.9333\n",
      "Epoch 63/1000\n",
      "25/31 [=======================>......] - ETA: 0s - loss: 0.6897 - accuracy: 0.7497\n",
      "Epoch 63: saving model to model/keypoint_classifier\\keypoint_classifier.hdf5\n",
      "31/31 [==============================] - 0s 5ms/step - loss: 0.6895 - accuracy: 0.7507 - val_loss: 0.3260 - val_accuracy: 0.9310\n",
      "Epoch 64/1000\n",
      "26/31 [========================>.....] - ETA: 0s - loss: 0.6838 - accuracy: 0.7527\n",
      "Epoch 64: saving model to model/keypoint_classifier\\keypoint_classifier.hdf5\n",
      "31/31 [==============================] - 0s 5ms/step - loss: 0.6802 - accuracy: 0.7538 - val_loss: 0.3188 - val_accuracy: 0.9349\n",
      "Epoch 65/1000\n",
      "20/31 [==================>...........] - ETA: 0s - loss: 0.6856 - accuracy: 0.7477\n",
      "Epoch 65: saving model to model/keypoint_classifier\\keypoint_classifier.hdf5\n",
      "31/31 [==============================] - 0s 6ms/step - loss: 0.6895 - accuracy: 0.7512 - val_loss: 0.3185 - val_accuracy: 0.9379\n",
      "Epoch 66/1000\n",
      "24/31 [======================>.......] - ETA: 0s - loss: 0.6685 - accuracy: 0.7568\n",
      "Epoch 66: saving model to model/keypoint_classifier\\keypoint_classifier.hdf5\n",
      "31/31 [==============================] - 0s 5ms/step - loss: 0.6818 - accuracy: 0.7545 - val_loss: 0.3182 - val_accuracy: 0.9318\n",
      "Epoch 67/1000\n",
      "24/31 [======================>.......] - ETA: 0s - loss: 0.6781 - accuracy: 0.7526\n",
      "Epoch 67: saving model to model/keypoint_classifier\\keypoint_classifier.hdf5\n",
      "31/31 [==============================] - 0s 5ms/step - loss: 0.6938 - accuracy: 0.7436 - val_loss: 0.3173 - val_accuracy: 0.9372\n",
      "Epoch 68/1000\n",
      "25/31 [=======================>......] - ETA: 0s - loss: 0.6819 - accuracy: 0.7528\n",
      "Epoch 68: saving model to model/keypoint_classifier\\keypoint_classifier.hdf5\n",
      "31/31 [==============================] - 0s 4ms/step - loss: 0.6836 - accuracy: 0.7525 - val_loss: 0.3146 - val_accuracy: 0.9349\n",
      "Epoch 69/1000\n",
      "28/31 [==========================>...] - ETA: 0s - loss: 0.6958 - accuracy: 0.7478\n",
      "Epoch 69: saving model to model/keypoint_classifier\\keypoint_classifier.hdf5\n",
      "31/31 [==============================] - 0s 4ms/step - loss: 0.6917 - accuracy: 0.7466 - val_loss: 0.3186 - val_accuracy: 0.9448\n",
      "Epoch 70/1000\n",
      " 1/31 [..............................] - ETA: 0s - loss: 0.6799 - accuracy: 0.7422\n",
      "Epoch 70: saving model to model/keypoint_classifier\\keypoint_classifier.hdf5\n",
      "31/31 [==============================] - 0s 3ms/step - loss: 0.6963 - accuracy: 0.7418 - val_loss: 0.3167 - val_accuracy: 0.9349\n",
      "Epoch 71/1000\n",
      " 1/31 [..............................] - ETA: 0s - loss: 0.6161 - accuracy: 0.7500\n",
      "Epoch 71: saving model to model/keypoint_classifier\\keypoint_classifier.hdf5\n",
      "31/31 [==============================] - 0s 3ms/step - loss: 0.6721 - accuracy: 0.7533 - val_loss: 0.3039 - val_accuracy: 0.9448\n",
      "Epoch 72/1000\n",
      "28/31 [==========================>...] - ETA: 0s - loss: 0.6653 - accuracy: 0.7561\n",
      "Epoch 72: saving model to model/keypoint_classifier\\keypoint_classifier.hdf5\n",
      "31/31 [==============================] - 0s 4ms/step - loss: 0.6726 - accuracy: 0.7535 - val_loss: 0.3112 - val_accuracy: 0.9387\n",
      "Epoch 73/1000\n",
      "26/31 [========================>.....] - ETA: 0s - loss: 0.6701 - accuracy: 0.7596\n",
      "Epoch 73: saving model to model/keypoint_classifier\\keypoint_classifier.hdf5\n",
      "31/31 [==============================] - 0s 5ms/step - loss: 0.6732 - accuracy: 0.7571 - val_loss: 0.2990 - val_accuracy: 0.9433\n",
      "Epoch 74/1000\n",
      "28/31 [==========================>...] - ETA: 0s - loss: 0.6651 - accuracy: 0.7598\n",
      "Epoch 74: saving model to model/keypoint_classifier\\keypoint_classifier.hdf5\n",
      "31/31 [==============================] - 0s 4ms/step - loss: 0.6635 - accuracy: 0.7599 - val_loss: 0.3044 - val_accuracy: 0.9402\n",
      "Epoch 75/1000\n",
      " 1/31 [..............................] - ETA: 0s - loss: 0.7040 - accuracy: 0.7656\n",
      "Epoch 75: saving model to model/keypoint_classifier\\keypoint_classifier.hdf5\n",
      "31/31 [==============================] - 0s 3ms/step - loss: 0.6513 - accuracy: 0.7655 - val_loss: 0.2963 - val_accuracy: 0.9510\n",
      "Epoch 76/1000\n",
      "28/31 [==========================>...] - ETA: 0s - loss: 0.6669 - accuracy: 0.7637\n",
      "Epoch 76: saving model to model/keypoint_classifier\\keypoint_classifier.hdf5\n",
      "31/31 [==============================] - 0s 4ms/step - loss: 0.6727 - accuracy: 0.7594 - val_loss: 0.3048 - val_accuracy: 0.9441\n",
      "Epoch 77/1000\n",
      "27/31 [=========================>....] - ETA: 0s - loss: 0.6599 - accuracy: 0.7549\n",
      "Epoch 77: saving model to model/keypoint_classifier\\keypoint_classifier.hdf5\n",
      "31/31 [==============================] - 0s 4ms/step - loss: 0.6629 - accuracy: 0.7543 - val_loss: 0.2912 - val_accuracy: 0.9487\n",
      "Epoch 78/1000\n",
      "29/31 [===========================>..] - ETA: 0s - loss: 0.6834 - accuracy: 0.7570\n",
      "Epoch 78: saving model to model/keypoint_classifier\\keypoint_classifier.hdf5\n",
      "31/31 [==============================] - 0s 4ms/step - loss: 0.6785 - accuracy: 0.7596 - val_loss: 0.3040 - val_accuracy: 0.9410\n",
      "Epoch 79/1000\n",
      "26/31 [========================>.....] - ETA: 0s - loss: 0.6494 - accuracy: 0.7623\n",
      "Epoch 79: saving model to model/keypoint_classifier\\keypoint_classifier.hdf5\n",
      "31/31 [==============================] - 0s 4ms/step - loss: 0.6629 - accuracy: 0.7622 - val_loss: 0.2933 - val_accuracy: 0.9402\n",
      "Epoch 80/1000\n",
      "24/31 [======================>.......] - ETA: 0s - loss: 0.6752 - accuracy: 0.7572\n",
      "Epoch 80: saving model to model/keypoint_classifier\\keypoint_classifier.hdf5\n",
      "31/31 [==============================] - 0s 5ms/step - loss: 0.6667 - accuracy: 0.7576 - val_loss: 0.2894 - val_accuracy: 0.9494\n",
      "Epoch 81/1000\n",
      "18/31 [================>.............] - ETA: 0s - loss: 0.6531 - accuracy: 0.7491\n",
      "Epoch 81: saving model to model/keypoint_classifier\\keypoint_classifier.hdf5\n",
      "31/31 [==============================] - 0s 6ms/step - loss: 0.6575 - accuracy: 0.7563 - val_loss: 0.2955 - val_accuracy: 0.9448\n",
      "Epoch 82/1000\n",
      "28/31 [==========================>...] - ETA: 0s - loss: 0.6478 - accuracy: 0.7732\n",
      "Epoch 82: saving model to model/keypoint_classifier\\keypoint_classifier.hdf5\n",
      "31/31 [==============================] - 0s 4ms/step - loss: 0.6506 - accuracy: 0.7709 - val_loss: 0.2877 - val_accuracy: 0.9479\n",
      "Epoch 83/1000\n",
      "30/31 [============================>.] - ETA: 0s - loss: 0.6506 - accuracy: 0.7581\n",
      "Epoch 83: saving model to model/keypoint_classifier\\keypoint_classifier.hdf5\n",
      "31/31 [==============================] - 0s 4ms/step - loss: 0.6509 - accuracy: 0.7576 - val_loss: 0.2862 - val_accuracy: 0.9464\n",
      "Epoch 84/1000\n",
      "29/31 [===========================>..] - ETA: 0s - loss: 0.6463 - accuracy: 0.7632\n",
      "Epoch 84: saving model to model/keypoint_classifier\\keypoint_classifier.hdf5\n",
      "31/31 [==============================] - 0s 4ms/step - loss: 0.6462 - accuracy: 0.7627 - val_loss: 0.2862 - val_accuracy: 0.9456\n",
      "Epoch 85/1000\n",
      " 1/31 [..............................] - ETA: 0s - loss: 0.7054 - accuracy: 0.7422\n",
      "Epoch 85: saving model to model/keypoint_classifier\\keypoint_classifier.hdf5\n",
      "31/31 [==============================] - 0s 3ms/step - loss: 0.6219 - accuracy: 0.7870 - val_loss: 0.2759 - val_accuracy: 0.9517\n",
      "Epoch 86/1000\n",
      " 1/31 [..............................] - ETA: 0s - loss: 0.6736 - accuracy: 0.7656\n",
      "Epoch 86: saving model to model/keypoint_classifier\\keypoint_classifier.hdf5\n",
      "31/31 [==============================] - 0s 3ms/step - loss: 0.6799 - accuracy: 0.7545 - val_loss: 0.2866 - val_accuracy: 0.9494\n",
      "Epoch 87/1000\n",
      " 1/31 [..............................] - ETA: 0s - loss: 0.6627 - accuracy: 0.7266\n",
      "Epoch 87: saving model to model/keypoint_classifier\\keypoint_classifier.hdf5\n",
      "31/31 [==============================] - 0s 3ms/step - loss: 0.6549 - accuracy: 0.7640 - val_loss: 0.2855 - val_accuracy: 0.9517\n",
      "Epoch 88/1000\n",
      " 1/31 [..............................] - ETA: 0s - loss: 0.6932 - accuracy: 0.7109\n",
      "Epoch 88: saving model to model/keypoint_classifier\\keypoint_classifier.hdf5\n",
      "31/31 [==============================] - 0s 3ms/step - loss: 0.6539 - accuracy: 0.7660 - val_loss: 0.2824 - val_accuracy: 0.9487\n",
      "Epoch 89/1000\n",
      " 1/31 [..............................] - ETA: 0s - loss: 0.5084 - accuracy: 0.7969\n",
      "Epoch 89: saving model to model/keypoint_classifier\\keypoint_classifier.hdf5\n",
      "31/31 [==============================] - 0s 3ms/step - loss: 0.6540 - accuracy: 0.7602 - val_loss: 0.2787 - val_accuracy: 0.9502\n",
      "Epoch 90/1000\n",
      " 1/31 [..............................] - ETA: 0s - loss: 0.6915 - accuracy: 0.7188\n",
      "Epoch 90: saving model to model/keypoint_classifier\\keypoint_classifier.hdf5\n",
      "31/31 [==============================] - 0s 3ms/step - loss: 0.6271 - accuracy: 0.7757 - val_loss: 0.2812 - val_accuracy: 0.9479\n",
      "Epoch 91/1000\n",
      " 1/31 [..............................] - ETA: 0s - loss: 0.6115 - accuracy: 0.7734\n",
      "Epoch 91: saving model to model/keypoint_classifier\\keypoint_classifier.hdf5\n",
      "31/31 [==============================] - 0s 3ms/step - loss: 0.6530 - accuracy: 0.7737 - val_loss: 0.2866 - val_accuracy: 0.9487\n",
      "Epoch 92/1000\n",
      " 1/31 [..............................] - ETA: 0s - loss: 0.6729 - accuracy: 0.7578\n",
      "Epoch 92: saving model to model/keypoint_classifier\\keypoint_classifier.hdf5\n",
      "31/31 [==============================] - 0s 3ms/step - loss: 0.6509 - accuracy: 0.7668 - val_loss: 0.2883 - val_accuracy: 0.9464\n",
      "Epoch 93/1000\n",
      " 1/31 [..............................] - ETA: 0s - loss: 0.6826 - accuracy: 0.7422\n",
      "Epoch 93: saving model to model/keypoint_classifier\\keypoint_classifier.hdf5\n",
      "31/31 [==============================] - 0s 3ms/step - loss: 0.6408 - accuracy: 0.7683 - val_loss: 0.2897 - val_accuracy: 0.9479\n",
      "Epoch 94/1000\n",
      " 1/31 [..............................] - ETA: 0s - loss: 0.7872 - accuracy: 0.7188\n",
      "Epoch 94: saving model to model/keypoint_classifier\\keypoint_classifier.hdf5\n",
      "31/31 [==============================] - 0s 3ms/step - loss: 0.6637 - accuracy: 0.7591 - val_loss: 0.2879 - val_accuracy: 0.9487\n",
      "Epoch 95/1000\n",
      "28/31 [==========================>...] - ETA: 0s - loss: 0.6424 - accuracy: 0.7681\n",
      "Epoch 95: saving model to model/keypoint_classifier\\keypoint_classifier.hdf5\n",
      "31/31 [==============================] - 0s 4ms/step - loss: 0.6425 - accuracy: 0.7681 - val_loss: 0.2880 - val_accuracy: 0.9441\n",
      "Epoch 96/1000\n",
      " 1/31 [..............................] - ETA: 0s - loss: 0.6422 - accuracy: 0.7734\n",
      "Epoch 96: saving model to model/keypoint_classifier\\keypoint_classifier.hdf5\n",
      "31/31 [==============================] - 0s 3ms/step - loss: 0.6347 - accuracy: 0.7808 - val_loss: 0.2811 - val_accuracy: 0.9456\n",
      "Epoch 97/1000\n",
      "29/31 [===========================>..] - ETA: 0s - loss: 0.6270 - accuracy: 0.7839\n",
      "Epoch 97: saving model to model/keypoint_classifier\\keypoint_classifier.hdf5\n",
      "31/31 [==============================] - 0s 4ms/step - loss: 0.6248 - accuracy: 0.7842 - val_loss: 0.2807 - val_accuracy: 0.9479\n",
      "Epoch 98/1000\n",
      "31/31 [==============================] - ETA: 0s - loss: 0.6576 - accuracy: 0.7701\n",
      "Epoch 98: saving model to model/keypoint_classifier\\keypoint_classifier.hdf5\n",
      "31/31 [==============================] - 0s 4ms/step - loss: 0.6576 - accuracy: 0.7701 - val_loss: 0.2780 - val_accuracy: 0.9525\n",
      "Epoch 99/1000\n",
      "24/31 [======================>.......] - ETA: 0s - loss: 0.6347 - accuracy: 0.7754\n",
      "Epoch 99: saving model to model/keypoint_classifier\\keypoint_classifier.hdf5\n",
      "31/31 [==============================] - 0s 5ms/step - loss: 0.6370 - accuracy: 0.7739 - val_loss: 0.2739 - val_accuracy: 0.9487\n",
      "Epoch 100/1000\n",
      "28/31 [==========================>...] - ETA: 0s - loss: 0.6405 - accuracy: 0.7718\n",
      "Epoch 100: saving model to model/keypoint_classifier\\keypoint_classifier.hdf5\n",
      "31/31 [==============================] - 0s 4ms/step - loss: 0.6454 - accuracy: 0.7681 - val_loss: 0.2742 - val_accuracy: 0.9471\n",
      "Epoch 101/1000\n",
      "31/31 [==============================] - ETA: 0s - loss: 0.6573 - accuracy: 0.7586\n",
      "Epoch 101: saving model to model/keypoint_classifier\\keypoint_classifier.hdf5\n",
      "31/31 [==============================] - 0s 4ms/step - loss: 0.6573 - accuracy: 0.7586 - val_loss: 0.2759 - val_accuracy: 0.9517\n",
      "Epoch 102/1000\n",
      "28/31 [==========================>...] - ETA: 0s - loss: 0.6252 - accuracy: 0.7807\n",
      "Epoch 102: saving model to model/keypoint_classifier\\keypoint_classifier.hdf5\n",
      "31/31 [==============================] - 0s 4ms/step - loss: 0.6267 - accuracy: 0.7803 - val_loss: 0.2836 - val_accuracy: 0.9487\n",
      "Epoch 103/1000\n",
      "30/31 [============================>.] - ETA: 0s - loss: 0.6146 - accuracy: 0.7870\n",
      "Epoch 103: saving model to model/keypoint_classifier\\keypoint_classifier.hdf5\n",
      "31/31 [==============================] - 0s 4ms/step - loss: 0.6142 - accuracy: 0.7870 - val_loss: 0.2705 - val_accuracy: 0.9479\n",
      "Epoch 104/1000\n",
      "27/31 [=========================>....] - ETA: 0s - loss: 0.6216 - accuracy: 0.7798\n",
      "Epoch 104: saving model to model/keypoint_classifier\\keypoint_classifier.hdf5\n",
      "31/31 [==============================] - 0s 4ms/step - loss: 0.6293 - accuracy: 0.7778 - val_loss: 0.2648 - val_accuracy: 0.9540\n",
      "Epoch 105/1000\n",
      "31/31 [==============================] - ETA: 0s - loss: 0.6391 - accuracy: 0.7714\n",
      "Epoch 105: saving model to model/keypoint_classifier\\keypoint_classifier.hdf5\n",
      "31/31 [==============================] - 0s 4ms/step - loss: 0.6391 - accuracy: 0.7714 - val_loss: 0.2715 - val_accuracy: 0.9510\n",
      "Epoch 106/1000\n",
      "29/31 [===========================>..] - ETA: 0s - loss: 0.6358 - accuracy: 0.7748\n",
      "Epoch 106: saving model to model/keypoint_classifier\\keypoint_classifier.hdf5\n",
      "31/31 [==============================] - 0s 4ms/step - loss: 0.6354 - accuracy: 0.7747 - val_loss: 0.2696 - val_accuracy: 0.9533\n",
      "Epoch 107/1000\n",
      "30/31 [============================>.] - ETA: 0s - loss: 0.6463 - accuracy: 0.7641\n",
      "Epoch 107: saving model to model/keypoint_classifier\\keypoint_classifier.hdf5\n",
      "31/31 [==============================] - 0s 4ms/step - loss: 0.6458 - accuracy: 0.7632 - val_loss: 0.2675 - val_accuracy: 0.9517\n",
      "Epoch 108/1000\n",
      "30/31 [============================>.] - ETA: 0s - loss: 0.6508 - accuracy: 0.7677\n",
      "Epoch 108: saving model to model/keypoint_classifier\\keypoint_classifier.hdf5\n",
      "31/31 [==============================] - 0s 5ms/step - loss: 0.6494 - accuracy: 0.7681 - val_loss: 0.2718 - val_accuracy: 0.9525\n",
      "Epoch 109/1000\n",
      "31/31 [==============================] - ETA: 0s - loss: 0.6377 - accuracy: 0.7796\n",
      "Epoch 109: saving model to model/keypoint_classifier\\keypoint_classifier.hdf5\n",
      "31/31 [==============================] - 0s 4ms/step - loss: 0.6377 - accuracy: 0.7796 - val_loss: 0.2787 - val_accuracy: 0.9456\n",
      "Epoch 110/1000\n",
      " 1/31 [..............................] - ETA: 0s - loss: 0.6483 - accuracy: 0.8125\n",
      "Epoch 110: saving model to model/keypoint_classifier\\keypoint_classifier.hdf5\n",
      "31/31 [==============================] - 0s 4ms/step - loss: 0.6365 - accuracy: 0.7742 - val_loss: 0.2777 - val_accuracy: 0.9487\n",
      "Epoch 111/1000\n",
      " 1/31 [..............................] - ETA: 0s - loss: 0.7174 - accuracy: 0.7578\n",
      "Epoch 111: saving model to model/keypoint_classifier\\keypoint_classifier.hdf5\n",
      "31/31 [==============================] - 0s 4ms/step - loss: 0.6231 - accuracy: 0.7770 - val_loss: 0.2730 - val_accuracy: 0.9502\n",
      "Epoch 112/1000\n",
      "30/31 [============================>.] - ETA: 0s - loss: 0.6282 - accuracy: 0.7794\n",
      "Epoch 112: saving model to model/keypoint_classifier\\keypoint_classifier.hdf5\n",
      "31/31 [==============================] - 0s 4ms/step - loss: 0.6255 - accuracy: 0.7806 - val_loss: 0.2730 - val_accuracy: 0.9494\n",
      "Epoch 113/1000\n",
      " 1/31 [..............................] - ETA: 0s - loss: 0.6114 - accuracy: 0.7891\n",
      "Epoch 113: saving model to model/keypoint_classifier\\keypoint_classifier.hdf5\n",
      "31/31 [==============================] - 0s 3ms/step - loss: 0.6263 - accuracy: 0.7839 - val_loss: 0.2671 - val_accuracy: 0.9510\n",
      "Epoch 114/1000\n",
      " 1/31 [..............................] - ETA: 0s - loss: 0.6514 - accuracy: 0.7812\n",
      "Epoch 114: saving model to model/keypoint_classifier\\keypoint_classifier.hdf5\n",
      "31/31 [==============================] - 0s 4ms/step - loss: 0.6182 - accuracy: 0.7765 - val_loss: 0.2714 - val_accuracy: 0.9510\n",
      "Epoch 115/1000\n",
      "31/31 [==============================] - ETA: 0s - loss: 0.6383 - accuracy: 0.7765\n",
      "Epoch 115: saving model to model/keypoint_classifier\\keypoint_classifier.hdf5\n",
      "31/31 [==============================] - 0s 4ms/step - loss: 0.6383 - accuracy: 0.7765 - val_loss: 0.2646 - val_accuracy: 0.9487\n",
      "Epoch 116/1000\n",
      " 1/31 [..............................] - ETA: 0s - loss: 0.7465 - accuracy: 0.6953\n",
      "Epoch 116: saving model to model/keypoint_classifier\\keypoint_classifier.hdf5\n",
      "31/31 [==============================] - 0s 3ms/step - loss: 0.6302 - accuracy: 0.7729 - val_loss: 0.2697 - val_accuracy: 0.9479\n",
      "Epoch 117/1000\n",
      " 1/31 [..............................] - ETA: 0s - loss: 0.6315 - accuracy: 0.7969\n",
      "Epoch 117: saving model to model/keypoint_classifier\\keypoint_classifier.hdf5\n",
      "31/31 [==============================] - 0s 3ms/step - loss: 0.6416 - accuracy: 0.7686 - val_loss: 0.2744 - val_accuracy: 0.9448\n",
      "Epoch 118/1000\n",
      " 1/31 [..............................] - ETA: 0s - loss: 0.4764 - accuracy: 0.8203\n",
      "Epoch 118: saving model to model/keypoint_classifier\\keypoint_classifier.hdf5\n",
      "31/31 [==============================] - 0s 3ms/step - loss: 0.6375 - accuracy: 0.7737 - val_loss: 0.2771 - val_accuracy: 0.9425\n",
      "Epoch 119/1000\n",
      " 1/31 [..............................] - ETA: 0s - loss: 0.5707 - accuracy: 0.8125\n",
      "Epoch 119: saving model to model/keypoint_classifier\\keypoint_classifier.hdf5\n",
      "31/31 [==============================] - 0s 3ms/step - loss: 0.6282 - accuracy: 0.7737 - val_loss: 0.2699 - val_accuracy: 0.9441\n",
      "Epoch 120/1000\n",
      " 1/31 [..............................] - ETA: 0s - loss: 0.6600 - accuracy: 0.7812\n",
      "Epoch 120: saving model to model/keypoint_classifier\\keypoint_classifier.hdf5\n",
      "31/31 [==============================] - 0s 3ms/step - loss: 0.6359 - accuracy: 0.7778 - val_loss: 0.2681 - val_accuracy: 0.9487\n",
      "Epoch 121/1000\n",
      " 1/31 [..............................] - ETA: 0s - loss: 0.5819 - accuracy: 0.8125\n",
      "Epoch 121: saving model to model/keypoint_classifier\\keypoint_classifier.hdf5\n",
      "31/31 [==============================] - 0s 3ms/step - loss: 0.6199 - accuracy: 0.7890 - val_loss: 0.2656 - val_accuracy: 0.9433\n",
      "Epoch 122/1000\n",
      "29/31 [===========================>..] - ETA: 0s - loss: 0.6285 - accuracy: 0.7780\n",
      "Epoch 122: saving model to model/keypoint_classifier\\keypoint_classifier.hdf5\n",
      "31/31 [==============================] - 0s 4ms/step - loss: 0.6326 - accuracy: 0.7765 - val_loss: 0.2668 - val_accuracy: 0.9441\n",
      "Epoch 123/1000\n",
      "29/31 [===========================>..] - ETA: 0s - loss: 0.6356 - accuracy: 0.7699\n",
      "Epoch 123: saving model to model/keypoint_classifier\\keypoint_classifier.hdf5\n",
      "31/31 [==============================] - 0s 4ms/step - loss: 0.6392 - accuracy: 0.7681 - val_loss: 0.2654 - val_accuracy: 0.9471\n",
      "Epoch 124/1000\n",
      "28/31 [==========================>...] - ETA: 0s - loss: 0.6356 - accuracy: 0.7693\n",
      "Epoch 124: saving model to model/keypoint_classifier\\keypoint_classifier.hdf5\n",
      "31/31 [==============================] - 0s 5ms/step - loss: 0.6311 - accuracy: 0.7714 - val_loss: 0.2670 - val_accuracy: 0.9479\n",
      "Epoch 125/1000\n",
      "16/31 [==============>...............] - ETA: 0s - loss: 0.6460 - accuracy: 0.7681\n",
      "Epoch 125: saving model to model/keypoint_classifier\\keypoint_classifier.hdf5\n",
      "31/31 [==============================] - 0s 5ms/step - loss: 0.6299 - accuracy: 0.7773 - val_loss: 0.2678 - val_accuracy: 0.9510\n",
      "Epoch 126/1000\n",
      "29/31 [===========================>..] - ETA: 0s - loss: 0.6148 - accuracy: 0.7772\n",
      "Epoch 126: saving model to model/keypoint_classifier\\keypoint_classifier.hdf5\n",
      "31/31 [==============================] - 0s 5ms/step - loss: 0.6173 - accuracy: 0.7778 - val_loss: 0.2697 - val_accuracy: 0.9487\n",
      "Epoch 127/1000\n",
      " 1/31 [..............................] - ETA: 0s - loss: 0.6203 - accuracy: 0.7734\n",
      "Epoch 127: saving model to model/keypoint_classifier\\keypoint_classifier.hdf5\n",
      "31/31 [==============================] - 0s 4ms/step - loss: 0.6326 - accuracy: 0.7819 - val_loss: 0.2634 - val_accuracy: 0.9487\n",
      "Epoch 128/1000\n",
      "26/31 [========================>.....] - ETA: 0s - loss: 0.6298 - accuracy: 0.7737\n",
      "Epoch 128: saving model to model/keypoint_classifier\\keypoint_classifier.hdf5\n",
      "31/31 [==============================] - 0s 4ms/step - loss: 0.6307 - accuracy: 0.7742 - val_loss: 0.2736 - val_accuracy: 0.9425\n",
      "Epoch 129/1000\n",
      "31/31 [==============================] - ETA: 0s - loss: 0.6239 - accuracy: 0.7719\n",
      "Epoch 129: saving model to model/keypoint_classifier\\keypoint_classifier.hdf5\n",
      "31/31 [==============================] - 0s 4ms/step - loss: 0.6239 - accuracy: 0.7719 - val_loss: 0.2585 - val_accuracy: 0.9517\n",
      "Epoch 130/1000\n",
      " 1/31 [..............................] - ETA: 0s - loss: 0.6854 - accuracy: 0.7734\n",
      "Epoch 130: saving model to model/keypoint_classifier\\keypoint_classifier.hdf5\n",
      "31/31 [==============================] - 0s 4ms/step - loss: 0.6364 - accuracy: 0.7801 - val_loss: 0.2679 - val_accuracy: 0.9471\n",
      "Epoch 131/1000\n",
      "29/31 [===========================>..] - ETA: 0s - loss: 0.6185 - accuracy: 0.7810\n",
      "Epoch 131: saving model to model/keypoint_classifier\\keypoint_classifier.hdf5\n",
      "31/31 [==============================] - 0s 4ms/step - loss: 0.6178 - accuracy: 0.7814 - val_loss: 0.2628 - val_accuracy: 0.9471\n",
      "Epoch 132/1000\n",
      "31/31 [==============================] - ETA: 0s - loss: 0.6438 - accuracy: 0.7806\n",
      "Epoch 132: saving model to model/keypoint_classifier\\keypoint_classifier.hdf5\n",
      "31/31 [==============================] - 0s 4ms/step - loss: 0.6438 - accuracy: 0.7806 - val_loss: 0.2648 - val_accuracy: 0.9479\n",
      "Epoch 133/1000\n",
      "30/31 [============================>.] - ETA: 0s - loss: 0.6043 - accuracy: 0.7872\n",
      "Epoch 133: saving model to model/keypoint_classifier\\keypoint_classifier.hdf5\n",
      "31/31 [==============================] - 0s 4ms/step - loss: 0.6013 - accuracy: 0.7883 - val_loss: 0.2667 - val_accuracy: 0.9464\n",
      "Epoch 134/1000\n",
      " 1/31 [..............................] - ETA: 0s - loss: 0.7552 - accuracy: 0.7578\n",
      "Epoch 134: saving model to model/keypoint_classifier\\keypoint_classifier.hdf5\n",
      "31/31 [==============================] - 0s 4ms/step - loss: 0.6130 - accuracy: 0.7814 - val_loss: 0.2673 - val_accuracy: 0.9502\n",
      "Epoch 135/1000\n",
      " 1/31 [..............................] - ETA: 0s - loss: 0.5647 - accuracy: 0.7734\n",
      "Epoch 135: saving model to model/keypoint_classifier\\keypoint_classifier.hdf5\n",
      "31/31 [==============================] - 0s 4ms/step - loss: 0.6143 - accuracy: 0.7788 - val_loss: 0.2626 - val_accuracy: 0.9502\n",
      "Epoch 136/1000\n",
      "30/31 [============================>.] - ETA: 0s - loss: 0.6064 - accuracy: 0.7857\n",
      "Epoch 136: saving model to model/keypoint_classifier\\keypoint_classifier.hdf5\n",
      "31/31 [==============================] - 0s 4ms/step - loss: 0.6043 - accuracy: 0.7862 - val_loss: 0.2616 - val_accuracy: 0.9433\n",
      "Epoch 137/1000\n",
      "29/31 [===========================>..] - ETA: 0s - loss: 0.6284 - accuracy: 0.7783\n",
      "Epoch 137: saving model to model/keypoint_classifier\\keypoint_classifier.hdf5\n",
      "31/31 [==============================] - 0s 4ms/step - loss: 0.6289 - accuracy: 0.7780 - val_loss: 0.2556 - val_accuracy: 0.9502\n",
      "Epoch 138/1000\n",
      " 1/31 [..............................] - ETA: 0s - loss: 0.6987 - accuracy: 0.7891\n",
      "Epoch 138: saving model to model/keypoint_classifier\\keypoint_classifier.hdf5\n",
      "31/31 [==============================] - 0s 4ms/step - loss: 0.6208 - accuracy: 0.7831 - val_loss: 0.2634 - val_accuracy: 0.9418\n",
      "Epoch 139/1000\n",
      " 1/31 [..............................] - ETA: 0s - loss: 0.5866 - accuracy: 0.8047\n",
      "Epoch 139: saving model to model/keypoint_classifier\\keypoint_classifier.hdf5\n",
      "31/31 [==============================] - 0s 4ms/step - loss: 0.6339 - accuracy: 0.7785 - val_loss: 0.2724 - val_accuracy: 0.9448\n",
      "Epoch 140/1000\n",
      "28/31 [==========================>...] - ETA: 0s - loss: 0.6352 - accuracy: 0.7846\n",
      "Epoch 140: saving model to model/keypoint_classifier\\keypoint_classifier.hdf5\n",
      "31/31 [==============================] - 0s 4ms/step - loss: 0.6335 - accuracy: 0.7837 - val_loss: 0.2738 - val_accuracy: 0.9410\n",
      "Epoch 141/1000\n",
      " 1/31 [..............................] - ETA: 0s - loss: 0.7283 - accuracy: 0.7109\n",
      "Epoch 141: saving model to model/keypoint_classifier\\keypoint_classifier.hdf5\n",
      "31/31 [==============================] - 0s 4ms/step - loss: 0.6159 - accuracy: 0.7842 - val_loss: 0.2678 - val_accuracy: 0.9471\n",
      "Epoch 142/1000\n",
      " 1/31 [..............................] - ETA: 0s - loss: 0.6782 - accuracy: 0.7500\n",
      "Epoch 142: saving model to model/keypoint_classifier\\keypoint_classifier.hdf5\n",
      "31/31 [==============================] - 0s 4ms/step - loss: 0.6119 - accuracy: 0.7913 - val_loss: 0.2746 - val_accuracy: 0.9402\n",
      "Epoch 143/1000\n",
      "30/31 [============================>.] - ETA: 0s - loss: 0.6108 - accuracy: 0.7875\n",
      "Epoch 143: saving model to model/keypoint_classifier\\keypoint_classifier.hdf5\n",
      "31/31 [==============================] - 0s 4ms/step - loss: 0.6108 - accuracy: 0.7872 - val_loss: 0.2678 - val_accuracy: 0.9425\n",
      "Epoch 144/1000\n",
      "31/31 [==============================] - ETA: 0s - loss: 0.6160 - accuracy: 0.7842\n",
      "Epoch 144: saving model to model/keypoint_classifier\\keypoint_classifier.hdf5\n",
      "31/31 [==============================] - 0s 4ms/step - loss: 0.6160 - accuracy: 0.7842 - val_loss: 0.2697 - val_accuracy: 0.9425\n",
      "Epoch 145/1000\n",
      " 1/31 [..............................] - ETA: 0s - loss: 0.6523 - accuracy: 0.7656\n",
      "Epoch 145: saving model to model/keypoint_classifier\\keypoint_classifier.hdf5\n",
      "31/31 [==============================] - 0s 4ms/step - loss: 0.6121 - accuracy: 0.7875 - val_loss: 0.2691 - val_accuracy: 0.9464\n",
      "Epoch 146/1000\n",
      "25/31 [=======================>......] - ETA: 0s - loss: 0.6085 - accuracy: 0.7834\n",
      "Epoch 146: saving model to model/keypoint_classifier\\keypoint_classifier.hdf5\n",
      "31/31 [==============================] - 0s 4ms/step - loss: 0.6191 - accuracy: 0.7844 - val_loss: 0.2648 - val_accuracy: 0.9464\n",
      "Epoch 147/1000\n",
      " 1/31 [..............................] - ETA: 0s - loss: 0.5870 - accuracy: 0.7734\n",
      "Epoch 147: saving model to model/keypoint_classifier\\keypoint_classifier.hdf5\n",
      "31/31 [==============================] - 0s 3ms/step - loss: 0.6190 - accuracy: 0.7814 - val_loss: 0.2687 - val_accuracy: 0.9441\n",
      "Epoch 148/1000\n",
      "27/31 [=========================>....] - ETA: 0s - loss: 0.6173 - accuracy: 0.7700\n",
      "Epoch 148: saving model to model/keypoint_classifier\\keypoint_classifier.hdf5\n",
      "31/31 [==============================] - 0s 4ms/step - loss: 0.6084 - accuracy: 0.7757 - val_loss: 0.2640 - val_accuracy: 0.9448\n",
      "Epoch 149/1000\n",
      "29/31 [===========================>..] - ETA: 0s - loss: 0.6136 - accuracy: 0.7802\n",
      "Epoch 149: saving model to model/keypoint_classifier\\keypoint_classifier.hdf5\n",
      "31/31 [==============================] - 0s 4ms/step - loss: 0.6125 - accuracy: 0.7839 - val_loss: 0.2609 - val_accuracy: 0.9425\n",
      "Epoch 150/1000\n",
      " 1/31 [..............................] - ETA: 0s - loss: 0.5548 - accuracy: 0.8047\n",
      "Epoch 150: saving model to model/keypoint_classifier\\keypoint_classifier.hdf5\n",
      "31/31 [==============================] - 0s 4ms/step - loss: 0.6100 - accuracy: 0.7860 - val_loss: 0.2699 - val_accuracy: 0.9402\n",
      "Epoch 151/1000\n",
      " 1/31 [..............................] - ETA: 0s - loss: 0.5863 - accuracy: 0.7969\n",
      "Epoch 151: saving model to model/keypoint_classifier\\keypoint_classifier.hdf5\n",
      "31/31 [==============================] - 0s 4ms/step - loss: 0.6016 - accuracy: 0.7803 - val_loss: 0.2677 - val_accuracy: 0.9372\n",
      "Epoch 152/1000\n",
      "26/31 [========================>.....] - ETA: 0s - loss: 0.6163 - accuracy: 0.7837\n",
      "Epoch 152: saving model to model/keypoint_classifier\\keypoint_classifier.hdf5\n",
      "31/31 [==============================] - 0s 4ms/step - loss: 0.6227 - accuracy: 0.7801 - val_loss: 0.2632 - val_accuracy: 0.9433\n",
      "Epoch 153/1000\n",
      " 1/31 [..............................] - ETA: 0s - loss: 0.6865 - accuracy: 0.7891\n",
      "Epoch 153: saving model to model/keypoint_classifier\\keypoint_classifier.hdf5\n",
      "31/31 [==============================] - 0s 3ms/step - loss: 0.5970 - accuracy: 0.7877 - val_loss: 0.2632 - val_accuracy: 0.9418\n",
      "Epoch 154/1000\n",
      " 1/31 [..............................] - ETA: 0s - loss: 0.6722 - accuracy: 0.7109\n",
      "Epoch 154: saving model to model/keypoint_classifier\\keypoint_classifier.hdf5\n",
      "31/31 [==============================] - 0s 3ms/step - loss: 0.5787 - accuracy: 0.7944 - val_loss: 0.2592 - val_accuracy: 0.9456\n",
      "Epoch 155/1000\n",
      " 1/31 [..............................] - ETA: 0s - loss: 0.5621 - accuracy: 0.8125\n",
      "Epoch 155: saving model to model/keypoint_classifier\\keypoint_classifier.hdf5\n",
      "31/31 [==============================] - 0s 3ms/step - loss: 0.6208 - accuracy: 0.7826 - val_loss: 0.2618 - val_accuracy: 0.9464\n",
      "Epoch 156/1000\n",
      " 1/31 [..............................] - ETA: 0s - loss: 0.5489 - accuracy: 0.7578\n",
      "Epoch 156: saving model to model/keypoint_classifier\\keypoint_classifier.hdf5\n",
      "31/31 [==============================] - 0s 3ms/step - loss: 0.6049 - accuracy: 0.7842 - val_loss: 0.2634 - val_accuracy: 0.9448\n",
      "Epoch 157/1000\n",
      " 1/31 [..............................] - ETA: 0s - loss: 0.6779 - accuracy: 0.7188\n",
      "Epoch 157: saving model to model/keypoint_classifier\\keypoint_classifier.hdf5\n",
      "31/31 [==============================] - 0s 4ms/step - loss: 0.6029 - accuracy: 0.7862 - val_loss: 0.2659 - val_accuracy: 0.9425\n",
      "Epoch 157: early stopping\n"
     ]
    },
    {
     "data": {
      "text/plain": [
       "<keras.src.callbacks.History at 0x15eb276d120>"
      ]
     },
     "execution_count": 35,
     "metadata": {},
     "output_type": "execute_result"
    }
   ],
   "source": [
    "model.fit(\n",
    "    X_train,\n",
    "    y_train,\n",
    "    epochs=1000,\n",
    "    batch_size=128,\n",
    "    validation_data=(X_test, y_test),\n",
    "    callbacks=[cp_callback, es_callback]\n",
    ")"
   ]
  },
  {
   "cell_type": "code",
   "execution_count": 36,
   "metadata": {
    "colab": {
     "base_uri": "https://localhost:8080/"
    },
    "id": "pxvb2Y299hE3",
    "outputId": "59eb3185-2e37-4b9e-bc9d-ab1b8ac29b7f"
   },
   "outputs": [
    {
     "name": "stdout",
     "output_type": "stream",
     "text": [
      "11/11 [==============================] - 0s 1ms/step - loss: 0.2659 - accuracy: 0.9425\n"
     ]
    }
   ],
   "source": [
    "# Model evaluation\n",
    "val_loss, val_acc = model.evaluate(X_test, y_test, batch_size=128)"
   ]
  },
  {
   "cell_type": "code",
   "execution_count": 37,
   "metadata": {
    "id": "RBkmDeUW9hE4"
   },
   "outputs": [],
   "source": [
    "# Loading the saved model\n",
    "model = tf.keras.models.load_model(model_save_path)"
   ]
  },
  {
   "cell_type": "code",
   "execution_count": 38,
   "metadata": {
    "colab": {
     "base_uri": "https://localhost:8080/"
    },
    "id": "tFz9Tb0I9hE4",
    "outputId": "1c3b3528-54ae-4ee2-ab04-77429211cbef"
   },
   "outputs": [
    {
     "name": "stdout",
     "output_type": "stream",
     "text": [
      "1/1 [==============================] - 0s 47ms/step\n",
      "[1.4230021e-02 5.3860641e-01 4.0101597e-01 1.2778148e-02 6.4602929e-05\n",
      " 3.3304930e-02]\n",
      "1\n"
     ]
    }
   ],
   "source": [
    "# Inference test\n",
    "predict_result = model.predict(np.array([X_test[0]]))\n",
    "print(np.squeeze(predict_result))\n",
    "print(np.argmax(np.squeeze(predict_result)))"
   ]
  },
  {
   "cell_type": "markdown",
   "metadata": {
    "id": "S3U4yNWx9hE4"
   },
   "source": [
    "# Confusion matrix"
   ]
  },
  {
   "cell_type": "code",
   "execution_count": 39,
   "metadata": {
    "colab": {
     "base_uri": "https://localhost:8080/",
     "height": 582
    },
    "id": "AP1V6SCk9hE5",
    "outputId": "08e41a80-7a4a-4619-8125-ecc371368d19"
   },
   "outputs": [
    {
     "name": "stdout",
     "output_type": "stream",
     "text": [
      "41/41 [==============================] - 0s 785us/step\n"
     ]
    },
    {
     "data": {
      "image/png": "[encoded data removed]",
      "text/plain": [
       "<Figure size 700x600 with 2 Axes>"
      ]
     },
     "metadata": {},
     "output_type": "display_data"
    },
    {
     "name": "stdout",
     "output_type": "stream",
     "text": [
      "Classification Report\n",
      "              precision    recall  f1-score   support\n",
      "\n",
      "           0       0.94      1.00      0.97       409\n",
      "           1       0.99      0.86      0.92       369\n",
      "           2       0.88      0.98      0.93       343\n",
      "           3       1.00      0.95      0.97        77\n",
      "           4       1.00      0.87      0.93        54\n",
      "           5       1.00      0.91      0.95        53\n",
      "\n",
      "    accuracy                           0.94      1305\n",
      "   macro avg       0.97      0.93      0.95      1305\n",
      "weighted avg       0.95      0.94      0.94      1305\n",
      "\n"
     ]
    }
   ],
   "source": [
    "import pandas as pd\n",
    "import seaborn as sns\n",
    "import matplotlib.pyplot as plt\n",
    "from sklearn.metrics import confusion_matrix, classification_report\n",
    "\n",
    "def print_confusion_matrix(y_true, y_pred, report=True):\n",
    "    labels = sorted(list(set(y_true)))\n",
    "    cmx_data = confusion_matrix(y_true, y_pred, labels=labels)\n",
    "    \n",
    "    df_cmx = pd.DataFrame(cmx_data, index=labels, columns=labels)\n",
    " \n",
    "    fig, ax = plt.subplots(figsize=(7, 6))\n",
    "    sns.heatmap(df_cmx, annot=True, fmt='g' ,square=False)\n",
    "    ax.set_ylim(len(set(y_true)), 0)\n",
    "    plt.show()\n",
    "    \n",
    "    if report:\n",
    "        print('Classification Report')\n",
    "        print(classification_report(y_test, y_pred))\n",
    "\n",
    "Y_pred = model.predict(X_test)\n",
    "y_pred = np.argmax(Y_pred, axis=1)\n",
    "\n",
    "print_confusion_matrix(y_test, y_pred)"
   ]
  },
  {
   "cell_type": "markdown",
   "metadata": {
    "id": "FNP6aqzc9hE5"
   },
   "source": [
    "# Convert to model for Tensorflow-Lite"
   ]
  },
  {
   "cell_type": "code",
   "execution_count": 40,
   "metadata": {
    "id": "ODjnYyld9hE6"
   },
   "outputs": [
    {
     "name": "stderr",
     "output_type": "stream",
     "text": [
      "C:\\Users\\Lenovo\\anaconda3\\lib\\site-packages\\keras\\src\\engine\\training.py:3000: UserWarning: You are saving your model as an HDF5 file via `model.save()`. This file format is considered legacy. We recommend using instead the native Keras format, e.g. `model.save('my_model.keras')`.\n",
      "  saving_api.save_model(\n"
     ]
    }
   ],
   "source": [
    "# Save as a model dedicated to inference\n",
    "model.save(model_save_path, include_optimizer=False)"
   ]
  },
  {
   "cell_type": "code",
   "execution_count": 41,
   "metadata": {
    "colab": {
     "base_uri": "https://localhost:8080/"
    },
    "id": "zRfuK8Y59hE6",
    "outputId": "a4ca585c-b5d5-4244-8291-8674063209bb"
   },
   "outputs": [
    {
     "name": "stdout",
     "output_type": "stream",
     "text": [
      "INFO:tensorflow:Assets written to: C:\\Users\\Lenovo\\AppData\\Local\\Temp\\tmppxh4m3np\\assets\n"
     ]
    },
    {
     "name": "stderr",
     "output_type": "stream",
     "text": [
      "INFO:tensorflow:Assets written to: C:\\Users\\Lenovo\\AppData\\Local\\Temp\\tmppxh4m3np\\assets\n"
     ]
    },
    {
     "data": {
      "text/plain": [
       "6660"
      ]
     },
     "execution_count": 41,
     "metadata": {},
     "output_type": "execute_result"
    }
   ],
   "source": [
    "# Transform model (quantization)\n",
    "\n",
    "converter = tf.lite.TFLiteConverter.from_keras_model(model)\n",
    "converter.optimizations = [tf.lite.Optimize.DEFAULT]\n",
    "tflite_quantized_model = converter.convert()\n",
    "\n",
    "open(tflite_save_path, 'wb').write(tflite_quantized_model)"
   ]
  },
  {
   "cell_type": "markdown",
   "metadata": {
    "id": "CHBPBXdx9hE6"
   },
   "source": [
    "# Inference test"
   ]
  },
  {
   "cell_type": "code",
   "execution_count": 42,
   "metadata": {
    "id": "mGAzLocO9hE7"
   },
   "outputs": [],
   "source": [
    "interpreter = tf.lite.Interpreter(model_path=tflite_save_path)\n",
    "interpreter.allocate_tensors()"
   ]
  },
  {
   "cell_type": "code",
   "execution_count": 43,
   "metadata": {
    "id": "oQuDK8YS9hE7"
   },
   "outputs": [],
   "source": [
    "# Get I / O tensor\n",
    "input_details = interpreter.get_input_details()\n",
    "output_details = interpreter.get_output_details()"
   ]
  },
  {
   "cell_type": "code",
   "execution_count": 44,
   "metadata": {
    "id": "2_ixAf_l9hE7"
   },
   "outputs": [],
   "source": [
    "interpreter.set_tensor(input_details[0]['index'], np.array([X_test[0]]))"
   ]
  },
  {
   "cell_type": "code",
   "execution_count": 45,
   "metadata": {
    "colab": {
     "base_uri": "https://localhost:8080/"
    },
    "id": "s4FoAnuc9hE7",
    "outputId": "91f18257-8d8b-4ef3-c558-e9b5f94fabbf",
    "scrolled": true
   },
   "outputs": [
    {
     "name": "stdout",
     "output_type": "stream",
     "text": [
      "CPU times: total: 0 ns\n",
      "Wall time: 0 ns\n"
     ]
    }
   ],
   "source": [
    "%%time\n",
    "# Inference implementation\n",
    "interpreter.invoke()\n",
    "tflite_results = interpreter.get_tensor(output_details[0]['index'])"
   ]
  },
  {
   "cell_type": "code",
   "execution_count": 46,
   "metadata": {
    "colab": {
     "base_uri": "https://localhost:8080/"
    },
    "id": "vONjp19J9hE8",
    "outputId": "77205e24-fd00-42c4-f7b6-e06e527c2cba"
   },
   "outputs": [
    {
     "name": "stdout",
     "output_type": "stream",
     "text": [
      "[1.42300185e-02 5.38606405e-01 4.01015937e-01 1.27781294e-02\n",
      " 6.46029293e-05 3.33048925e-02]\n",
      "1\n"
     ]
    }
   ],
   "source": [
    "print(np.squeeze(tflite_results))\n",
    "print(np.argmax(np.squeeze(tflite_results)))"
   ]
  }
 ],
 "metadata": {
  "accelerator": "GPU",
  "colab": {
   "collapsed_sections": [],
   "name": "keypoint_classification_EN.ipynb",
   "provenance": [],
   "toc_visible": true
  },
  "kernelspec": {
   "display_name": "Python 3 (ipykernel)",
   "language": "python",
   "name": "python3"
  },
  "language_info": {
   "codemirror_mode": {
    "name": "ipython",
    "version": 3
   },
   "file_extension": ".py",
   "mimetype": "text/x-python",
   "name": "python",
   "nbconvert_exporter": "python",
   "pygments_lexer": "ipython3",
   "version": "3.10.9"
  }
 },
 "nbformat": 4,
 "nbformat_minor": 4
}
