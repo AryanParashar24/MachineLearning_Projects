{
 "cells": [
  {
   "cell_type": "code",
   "execution_count": 1,
   "id": "7a31b3c7-622b-43d4-aac3-104dfbb4b09e",
   "metadata": {},
   "outputs": [],
   "source": [
    "import numpy as np"
   ]
  },
  {
   "cell_type": "code",
   "execution_count": 7,
   "id": "dd8a478f-fd0d-49c6-8bc2-e0c1abbb8a1c",
   "metadata": {},
   "outputs": [],
   "source": [
    "a = np.random.randint(1, 10, (2, 4))\n",
    "b = np.random.randint(1, 10, (2, 4))"
   ]
  },
  {
   "cell_type": "code",
   "execution_count": 8,
   "id": "15464f92-91e1-4b89-bcf1-e3b1214f5233",
   "metadata": {},
   "outputs": [
    {
     "data": {
      "text/plain": [
       "array([[5, 9, 2, 1],\n",
       "       [6, 1, 5, 3]])"
      ]
     },
     "execution_count": 8,
     "metadata": {},
     "output_type": "execute_result"
    }
   ],
   "source": [
    "a"
   ]
  },
  {
   "cell_type": "code",
   "execution_count": 9,
   "id": "0576b16e-7266-4126-ac03-15aaaf948de4",
   "metadata": {},
   "outputs": [
    {
     "data": {
      "text/plain": [
       "array([[4, 7, 3, 8],\n",
       "       [3, 9, 5, 4]])"
      ]
     },
     "execution_count": 9,
     "metadata": {},
     "output_type": "execute_result"
    }
   ],
   "source": [
    "b"
   ]
  },
  {
   "cell_type": "code",
   "execution_count": 10,
   "id": "a1050775-717e-4b55-8814-7cdfea70cfdb",
   "metadata": {},
   "outputs": [
    {
     "data": {
      "text/plain": [
       "array([[ 9, 16,  5,  9],\n",
       "       [ 9, 10, 10,  7]])"
      ]
     },
     "execution_count": 10,
     "metadata": {},
     "output_type": "execute_result"
    }
   ],
   "source": [
    "a+b"
   ]
  },
  {
   "cell_type": "code",
   "execution_count": null,
   "id": "b45c8087-4cb5-4978-bc3a-8e9753748149",
   "metadata": {},
   "outputs": [],
   "source": [
    "# Rules for the addition and operation:--\n",
    "\n",
    "\n",
    "# Rule1:-- Here it will check from the right and go towards the left if the numbers in the array are calculated \n",
    "# to be equal \n",
    "\n",
    "# Rule2:-- If one of the number in the array in the operation provided is 1 then also the operation will work in it"
   ]
  },
  {
   "cell_type": "code",
   "execution_count": 15,
   "id": "dd70e730-0ffd-4265-a681-8d9574375079",
   "metadata": {},
   "outputs": [],
   "source": [
    "c = np.random.randint(1, 10, (2, 1))\n",
    "d = np.random.randint(1, 10, (2, 4))"
   ]
  },
  {
   "cell_type": "code",
   "execution_count": 16,
   "id": "f71d7ad6-affb-41e0-abe0-3e7fcf52dd1b",
   "metadata": {},
   "outputs": [
    {
     "data": {
      "text/plain": [
       "array([[6],\n",
       "       [1]])"
      ]
     },
     "execution_count": 16,
     "metadata": {},
     "output_type": "execute_result"
    }
   ],
   "source": [
    "c"
   ]
  },
  {
   "cell_type": "code",
   "execution_count": 17,
   "id": "12512452-bfc0-4f04-9ec1-c509c38c8a5c",
   "metadata": {},
   "outputs": [
    {
     "data": {
      "text/plain": [
       "array([[1, 1, 4, 2],\n",
       "       [5, 8, 8, 2]])"
      ]
     },
     "execution_count": 17,
     "metadata": {},
     "output_type": "execute_result"
    }
   ],
   "source": [
    "d"
   ]
  },
  {
   "cell_type": "code",
   "execution_count": 18,
   "id": "52f5d3b4-60a7-49b2-b67c-b82a8c96611a",
   "metadata": {},
   "outputs": [
    {
     "data": {
      "text/plain": [
       "array([[ 7,  7, 10,  8],\n",
       "       [ 6,  9,  9,  3]])"
      ]
     },
     "execution_count": 18,
     "metadata": {},
     "output_type": "execute_result"
    }
   ],
   "source": [
    "c+d"
   ]
  },
  {
   "cell_type": "code",
   "execution_count": 19,
   "id": "611f790b-d57f-412f-8437-456695007beb",
   "metadata": {},
   "outputs": [],
   "source": [
    "e = np.random.randint(1, 10, (40, 50, 2, 1))\n",
    "f = np.random.randint(1, 10, (2, 4))"
   ]
  },
  {
   "cell_type": "code",
   "execution_count": null,
   "id": "a59a3194-02ef-45ae-a026-c9169eac0a8c",
   "metadata": {},
   "outputs": [],
   "source": [
    "# Here since 1 is present in the coed hence the code will work and "
   ]
  },
  {
   "cell_type": "code",
   "execution_count": 21,
   "id": "4cdd559b-3f54-49b1-a98f-c5d1a7ed2ac2",
   "metadata": {},
   "outputs": [
    {
     "data": {
      "text/plain": [
       "array([[[[11, 10, 12,  8],\n",
       "         [ 6,  9,  6,  4]],\n",
       "\n",
       "        [[10,  9, 11,  7],\n",
       "         [13, 16, 13, 11]],\n",
       "\n",
       "        [[12, 11, 13,  9],\n",
       "         [12, 15, 12, 10]],\n",
       "\n",
       "        ...,\n",
       "\n",
       "        [[10,  9, 11,  7],\n",
       "         [13, 16, 13, 11]],\n",
       "\n",
       "        [[12, 11, 13,  9],\n",
       "         [10, 13, 10,  8]],\n",
       "\n",
       "        [[ 8,  7,  9,  5],\n",
       "         [ 9, 12,  9,  7]]],\n",
       "\n",
       "\n",
       "       [[[ 7,  6,  8,  4],\n",
       "         [ 6,  9,  6,  4]],\n",
       "\n",
       "        [[13, 12, 14, 10],\n",
       "         [ 6,  9,  6,  4]],\n",
       "\n",
       "        [[ 9,  8, 10,  6],\n",
       "         [10, 13, 10,  8]],\n",
       "\n",
       "        ...,\n",
       "\n",
       "        [[10,  9, 11,  7],\n",
       "         [10, 13, 10,  8]],\n",
       "\n",
       "        [[ 7,  6,  8,  4],\n",
       "         [11, 14, 11,  9]],\n",
       "\n",
       "        [[13, 12, 14, 10],\n",
       "         [ 8, 11,  8,  6]]],\n",
       "\n",
       "\n",
       "       [[[ 9,  8, 10,  6],\n",
       "         [10, 13, 10,  8]],\n",
       "\n",
       "        [[14, 13, 15, 11],\n",
       "         [ 9, 12,  9,  7]],\n",
       "\n",
       "        [[14, 13, 15, 11],\n",
       "         [ 9, 12,  9,  7]],\n",
       "\n",
       "        ...,\n",
       "\n",
       "        [[ 9,  8, 10,  6],\n",
       "         [12, 15, 12, 10]],\n",
       "\n",
       "        [[ 7,  6,  8,  4],\n",
       "         [12, 15, 12, 10]],\n",
       "\n",
       "        [[ 9,  8, 10,  6],\n",
       "         [11, 14, 11,  9]]],\n",
       "\n",
       "\n",
       "       ...,\n",
       "\n",
       "\n",
       "       [[[10,  9, 11,  7],\n",
       "         [11, 14, 11,  9]],\n",
       "\n",
       "        [[ 7,  6,  8,  4],\n",
       "         [ 9, 12,  9,  7]],\n",
       "\n",
       "        [[14, 13, 15, 11],\n",
       "         [ 9, 12,  9,  7]],\n",
       "\n",
       "        ...,\n",
       "\n",
       "        [[ 9,  8, 10,  6],\n",
       "         [10, 13, 10,  8]],\n",
       "\n",
       "        [[ 7,  6,  8,  4],\n",
       "         [ 6,  9,  6,  4]],\n",
       "\n",
       "        [[ 9,  8, 10,  6],\n",
       "         [10, 13, 10,  8]]],\n",
       "\n",
       "\n",
       "       [[[ 6,  5,  7,  3],\n",
       "         [10, 13, 10,  8]],\n",
       "\n",
       "        [[ 8,  7,  9,  5],\n",
       "         [10, 13, 10,  8]],\n",
       "\n",
       "        [[11, 10, 12,  8],\n",
       "         [ 7, 10,  7,  5]],\n",
       "\n",
       "        ...,\n",
       "\n",
       "        [[ 8,  7,  9,  5],\n",
       "         [10, 13, 10,  8]],\n",
       "\n",
       "        [[ 8,  7,  9,  5],\n",
       "         [10, 13, 10,  8]],\n",
       "\n",
       "        [[10,  9, 11,  7],\n",
       "         [11, 14, 11,  9]]],\n",
       "\n",
       "\n",
       "       [[[10,  9, 11,  7],\n",
       "         [10, 13, 10,  8]],\n",
       "\n",
       "        [[10,  9, 11,  7],\n",
       "         [13, 16, 13, 11]],\n",
       "\n",
       "        [[ 6,  5,  7,  3],\n",
       "         [ 5,  8,  5,  3]],\n",
       "\n",
       "        ...,\n",
       "\n",
       "        [[10,  9, 11,  7],\n",
       "         [11, 14, 11,  9]],\n",
       "\n",
       "        [[11, 10, 12,  8],\n",
       "         [10, 13, 10,  8]],\n",
       "\n",
       "        [[11, 10, 12,  8],\n",
       "         [10, 13, 10,  8]]]])"
      ]
     },
     "execution_count": 21,
     "metadata": {},
     "output_type": "execute_result"
    }
   ],
   "source": [
    "e+f"
   ]
  },
  {
   "cell_type": "code",
   "execution_count": null,
   "id": "84032b4f-145b-48d8-b046-e2fad23488bc",
   "metadata": {},
   "outputs": [],
   "source": []
  }
 ],
 "metadata": {
  "kernelspec": {
   "display_name": "Python 3 (ipykernel)",
   "language": "python",
   "name": "python3"
  },
  "language_info": {
   "codemirror_mode": {
    "name": "ipython",
    "version": 3
   },
   "file_extension": ".py",
   "mimetype": "text/x-python",
   "name": "python",
   "nbconvert_exporter": "python",
   "pygments_lexer": "ipython3",
   "version": "3.10.9"
  }
 },
 "nbformat": 4,
 "nbformat_minor": 5
}
